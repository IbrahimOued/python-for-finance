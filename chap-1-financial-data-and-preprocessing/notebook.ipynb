{
 "cells": [
  {
   "attachments": {},
   "cell_type": "markdown",
   "metadata": {},
   "source": [
    "# Financial Data and Preprocessing"
   ]
  },
  {
   "attachments": {},
   "cell_type": "markdown",
   "metadata": {},
   "source": [
    "## **Introduction**"
   ]
  },
  {
   "attachments": {},
   "cell_type": "markdown",
   "metadata": {},
   "source": [
    "The first chapter of this book is dedicated to a very important (if not the most important)\n",
    "part of any data science/quantitative finance project—gathering and working with data. In\n",
    "line with the \"garbage in, garbage out\" maxim, we should strive to have data of the highest\n",
    "possible quality, and correctly preprocess it for later use with statistical and machine\n",
    "learning algorithms. The reason for this is simple—the results of our analyses highly\n",
    "depend on the input data, and no sophisticated model will be able to compensate for that.\n",
    "\n",
    "In this chapter, we cover the entire process of gathering financial data and preprocessing it\n",
    "into the form that is most commonly used in real-life projects. We begin by presenting a\n",
    "few possible sources of high-quality data, show how to convert prices into returns (which\n",
    "have properties desired by statistical algorithms), and investigate how to rescale asset\n",
    "returns (for example, from daily to monthly or yearly). Lastly, we learn how to investigate\n",
    "whether our data follows certain patterns (called stylized facts) commonly observed in\n",
    "financial assets.\n",
    "\n",
    "One thing to bear in mind while reading this chapter is that data differs among sources, so\n",
    "the prices we see, for example, at Yahoo Finance and Quandl will most likely differ, as the\n",
    "respective sites also get their data from different sources and might use other methods to\n",
    "adjust the prices for corporate actions. The best practice is to find a source we trust the most\n",
    "concerning a particular type of data (based on, for example, opinion on the internet) and\n",
    "then use it for downloading data."
   ]
  },
  {
   "attachments": {},
   "cell_type": "markdown",
   "metadata": {},
   "source": [
    "## **Getting data from Yahoo Finance**"
   ]
  },
  {
   "attachments": {},
   "cell_type": "markdown",
   "metadata": {},
   "source": [
    "One of the most popular sources of free financial data is Yahoo Finance. It contains not only\n",
    "historical and current stock prices in different frequencies (daily, weekly, monthly), but also\n",
    "calculated metrics, such as the beta (a measure of the volatility of an individual asset in\n",
    "comparison to the volatility of the entire market) and many more. In this recipe, we focus\n",
    "on retrieving historical stock prices.\n",
    "\n",
    "For a long period of time, the go-to tool for downloading data from Yahoo Finance was\n",
    "the `pandas-datareader` library. The goal of the library was to extract data from a variety\n",
    "of sources and store it in the form of a pandas DataFrame. However, after some changes to\n",
    "the Yahoo Finance API, this functionality was deprecated. It is still good to be familiar with\n",
    "this library, as it facilitates downloading data from sources such as **FRED (Federal Reserve\n",
    "Economic Data)**, the **Fama/French** Data Library or the **World Bank**, which might come in\n",
    "handy for different kinds of analyses (some of them are presented in the following\n",
    "chapters).\n",
    "\n",
    "As of now, the easiest and fastest way of downloading historical stock prices is to use\n",
    "the `yfinance` library (formerly known as `fix_yahoo_finance`), which can be used on top\n",
    "of pandas-datareader or as a standalone library for downloading stock prices from\n",
    "Yahoo Finance. We focus on the latter use case.\n",
    "\n",
    "For the sake of this example, we are interested in Apple's stock prices from the years\n",
    "2000-2010."
   ]
  },
  {
   "attachments": {},
   "cell_type": "markdown",
   "metadata": {},
   "source": [
    "### **How to do it**"
   ]
  },
  {
   "cell_type": "code",
   "execution_count": 25,
   "metadata": {},
   "outputs": [
    {
     "name": "stdout",
     "output_type": "stream",
     "text": [
      "Requirement already satisfied: yfinance in c:\\users\\hp\\miniconda3\\envs\\sklearn\\lib\\site-packages (0.2.3)\n",
      "Requirement already satisfied: multitasking>=0.0.7 in c:\\users\\hp\\miniconda3\\envs\\sklearn\\lib\\site-packages (from yfinance) (0.0.11)\n",
      "Requirement already satisfied: numpy>=1.16.5 in c:\\users\\hp\\miniconda3\\envs\\sklearn\\lib\\site-packages (from yfinance) (1.23.4)\n",
      "Requirement already satisfied: html5lib>=1.1 in c:\\users\\hp\\miniconda3\\envs\\sklearn\\lib\\site-packages (from yfinance) (1.1)\n",
      "Requirement already satisfied: requests>=2.26 in c:\\users\\hp\\miniconda3\\envs\\sklearn\\lib\\site-packages (from yfinance) (2.28.1)\n",
      "Requirement already satisfied: pandas>=1.3.0 in c:\\users\\hp\\miniconda3\\envs\\sklearn\\lib\\site-packages (from yfinance) (1.5.2)\n",
      "Requirement already satisfied: lxml>=4.9.1 in c:\\users\\hp\\miniconda3\\envs\\sklearn\\lib\\site-packages (from yfinance) (4.9.2)\n",
      "Requirement already satisfied: frozendict>=2.3.4 in c:\\users\\hp\\miniconda3\\envs\\sklearn\\lib\\site-packages (from yfinance) (2.3.4)\n",
      "Requirement already satisfied: beautifulsoup4>=4.11.1 in c:\\users\\hp\\miniconda3\\envs\\sklearn\\lib\\site-packages (from yfinance) (4.11.1)\n",
      "Requirement already satisfied: pytz>=2022.5 in c:\\users\\hp\\miniconda3\\envs\\sklearn\\lib\\site-packages (from yfinance) (2022.7)\n",
      "Requirement already satisfied: appdirs>=1.4.4 in c:\\users\\hp\\miniconda3\\envs\\sklearn\\lib\\site-packages (from yfinance) (1.4.4)\n",
      "Requirement already satisfied: cryptography>=3.3.2 in c:\\users\\hp\\miniconda3\\envs\\sklearn\\lib\\site-packages (from yfinance) (39.0.0)\n",
      "Requirement already satisfied: soupsieve>1.2 in c:\\users\\hp\\miniconda3\\envs\\sklearn\\lib\\site-packages (from beautifulsoup4>=4.11.1->yfinance) (2.3.2.post1)\n",
      "Requirement already satisfied: cffi>=1.12 in c:\\users\\hp\\miniconda3\\envs\\sklearn\\lib\\site-packages (from cryptography>=3.3.2->yfinance) (1.15.1)\n",
      "Requirement already satisfied: six>=1.9 in c:\\users\\hp\\miniconda3\\envs\\sklearn\\lib\\site-packages (from html5lib>=1.1->yfinance) (1.16.0)\n",
      "Requirement already satisfied: webencodings in c:\\users\\hp\\miniconda3\\envs\\sklearn\\lib\\site-packages (from html5lib>=1.1->yfinance) (0.5.1)\n",
      "Requirement already satisfied: python-dateutil>=2.8.1 in c:\\users\\hp\\miniconda3\\envs\\sklearn\\lib\\site-packages (from pandas>=1.3.0->yfinance) (2.8.2)\n",
      "Requirement already satisfied: idna<4,>=2.5 in c:\\users\\hp\\miniconda3\\envs\\sklearn\\lib\\site-packages (from requests>=2.26->yfinance) (3.4)\n",
      "Requirement already satisfied: certifi>=2017.4.17 in c:\\users\\hp\\miniconda3\\envs\\sklearn\\lib\\site-packages (from requests>=2.26->yfinance) (2022.12.7)\n",
      "Requirement already satisfied: urllib3<1.27,>=1.21.1 in c:\\users\\hp\\miniconda3\\envs\\sklearn\\lib\\site-packages (from requests>=2.26->yfinance) (1.26.13)\n",
      "Requirement already satisfied: charset-normalizer<3,>=2 in c:\\users\\hp\\miniconda3\\envs\\sklearn\\lib\\site-packages (from requests>=2.26->yfinance) (2.1.1)\n",
      "Requirement already satisfied: pycparser in c:\\users\\hp\\miniconda3\\envs\\sklearn\\lib\\site-packages (from cffi>=1.12->cryptography>=3.3.2->yfinance) (2.21)\n",
      "Note: you may need to restart the kernel to use updated packages.\n"
     ]
    }
   ],
   "source": [
    "%pip install yfinance"
   ]
  },
  {
   "cell_type": "code",
   "execution_count": 26,
   "metadata": {},
   "outputs": [],
   "source": [
    "# 1 import the libs\n",
    "import pandas as pd\n",
    "import yfinance as yf\n",
    "\n",
    "# 2 Download the data:\n",
    "df_yahoo = yf.download('AAPL', start='2000-01-01', end='2010-12-31', progress=False)"
   ]
  },
  {
   "cell_type": "code",
   "execution_count": 27,
   "metadata": {},
   "outputs": [
    {
     "data": {
      "text/html": [
       "<div>\n",
       "<style scoped>\n",
       "    .dataframe tbody tr th:only-of-type {\n",
       "        vertical-align: middle;\n",
       "    }\n",
       "\n",
       "    .dataframe tbody tr th {\n",
       "        vertical-align: top;\n",
       "    }\n",
       "\n",
       "    .dataframe thead th {\n",
       "        text-align: right;\n",
       "    }\n",
       "</style>\n",
       "<table border=\"1\" class=\"dataframe\">\n",
       "  <thead>\n",
       "    <tr style=\"text-align: right;\">\n",
       "      <th></th>\n",
       "      <th>Open</th>\n",
       "      <th>High</th>\n",
       "      <th>Low</th>\n",
       "      <th>Close</th>\n",
       "      <th>Adj Close</th>\n",
       "      <th>Volume</th>\n",
       "    </tr>\n",
       "    <tr>\n",
       "      <th>Date</th>\n",
       "      <th></th>\n",
       "      <th></th>\n",
       "      <th></th>\n",
       "      <th></th>\n",
       "      <th></th>\n",
       "      <th></th>\n",
       "    </tr>\n",
       "  </thead>\n",
       "  <tbody>\n",
       "    <tr>\n",
       "      <th>2000-01-03</th>\n",
       "      <td>0.936384</td>\n",
       "      <td>1.004464</td>\n",
       "      <td>0.907924</td>\n",
       "      <td>0.999442</td>\n",
       "      <td>0.851942</td>\n",
       "      <td>535796800</td>\n",
       "    </tr>\n",
       "    <tr>\n",
       "      <th>2000-01-04</th>\n",
       "      <td>0.966518</td>\n",
       "      <td>0.987723</td>\n",
       "      <td>0.903460</td>\n",
       "      <td>0.915179</td>\n",
       "      <td>0.780115</td>\n",
       "      <td>512377600</td>\n",
       "    </tr>\n",
       "    <tr>\n",
       "      <th>2000-01-05</th>\n",
       "      <td>0.926339</td>\n",
       "      <td>0.987165</td>\n",
       "      <td>0.919643</td>\n",
       "      <td>0.928571</td>\n",
       "      <td>0.791531</td>\n",
       "      <td>778321600</td>\n",
       "    </tr>\n",
       "    <tr>\n",
       "      <th>2000-01-06</th>\n",
       "      <td>0.947545</td>\n",
       "      <td>0.955357</td>\n",
       "      <td>0.848214</td>\n",
       "      <td>0.848214</td>\n",
       "      <td>0.723033</td>\n",
       "      <td>767972800</td>\n",
       "    </tr>\n",
       "    <tr>\n",
       "      <th>2000-01-07</th>\n",
       "      <td>0.861607</td>\n",
       "      <td>0.901786</td>\n",
       "      <td>0.852679</td>\n",
       "      <td>0.888393</td>\n",
       "      <td>0.757282</td>\n",
       "      <td>460734400</td>\n",
       "    </tr>\n",
       "  </tbody>\n",
       "</table>\n",
       "</div>"
      ],
      "text/plain": [
       "                Open      High       Low     Close  Adj Close     Volume\n",
       "Date                                                                    \n",
       "2000-01-03  0.936384  1.004464  0.907924  0.999442   0.851942  535796800\n",
       "2000-01-04  0.966518  0.987723  0.903460  0.915179   0.780115  512377600\n",
       "2000-01-05  0.926339  0.987165  0.919643  0.928571   0.791531  778321600\n",
       "2000-01-06  0.947545  0.955357  0.848214  0.848214   0.723033  767972800\n",
       "2000-01-07  0.861607  0.901786  0.852679  0.888393   0.757282  460734400"
      ]
     },
     "execution_count": 27,
     "metadata": {},
     "output_type": "execute_result"
    }
   ],
   "source": [
    "df_yahoo.head()"
   ]
  },
  {
   "attachments": {},
   "cell_type": "markdown",
   "metadata": {},
   "source": [
    "### **There's more**"
   ]
  },
  {
   "attachments": {},
   "cell_type": "markdown",
   "metadata": {},
   "source": [
    "Some additional features of the download function:\n",
    "* We can pass a list of multiple tickers, such as `['AAPL', 'MSFT']`.\n",
    "* We can set `auto_adjust=True` to download only the adjusted prices.\n",
    "* We can additionally download dividends and stock splits by\n",
    "* setting `actions='inline'`.\n",
    "Setting `progress=False` disables the progress bar.\n",
    "Another popular library for downloading data from Yahoo Finance is `yahoofinancials`."
   ]
  },
  {
   "attachments": {},
   "cell_type": "markdown",
   "metadata": {},
   "source": [
    "## **Getting data from Nasdaq Data Link (ex Quandl)**"
   ]
  },
  {
   "attachments": {},
   "cell_type": "markdown",
   "metadata": {},
   "source": [
    "api key : 6G6Q72oWCubse-z5Rs-f"
   ]
  },
  {
   "attachments": {},
   "cell_type": "markdown",
   "metadata": {},
   "source": [
    "Quandl is a provider of alternative data products for investment professionals, and offers\n",
    "an easy way to download data, also via a Python library.\n",
    "\n",
    "A good starting place for financial data would be the WIKI Prices database, which contains\n",
    "stock prices, dividends, and splits for 3,000 US publicly traded companies. The drawback of\n",
    "this database is that as of April, 2018, it is no longer supported (meaning there is no recent\n",
    "data). However, for purposes of getting historical data or learning how to access the\n",
    "databases, it is more than enough.\n",
    "\n",
    "We use the same example that we used in the previous recipe – we download Apple's stock\n",
    "prices for the years 2000-2010."
   ]
  },
  {
   "attachments": {},
   "cell_type": "markdown",
   "metadata": {},
   "source": [
    "### **Getting ready**"
   ]
  },
  {
   "cell_type": "code",
   "execution_count": 28,
   "metadata": {},
   "outputs": [
    {
     "name": "stdout",
     "output_type": "stream",
     "text": [
      "Requirement already satisfied: nasdaq-data-link in c:\\users\\hp\\miniconda3\\envs\\sklearn\\lib\\site-packages (1.0.4)\n",
      "Requirement already satisfied: python-dateutil in c:\\users\\hp\\miniconda3\\envs\\sklearn\\lib\\site-packages (from nasdaq-data-link) (2.8.2)\n",
      "Requirement already satisfied: pandas>=0.14 in c:\\users\\hp\\miniconda3\\envs\\sklearn\\lib\\site-packages (from nasdaq-data-link) (1.5.2)\n",
      "Requirement already satisfied: six in c:\\users\\hp\\miniconda3\\envs\\sklearn\\lib\\site-packages (from nasdaq-data-link) (1.16.0)\n",
      "Requirement already satisfied: numpy>=1.8 in c:\\users\\hp\\miniconda3\\envs\\sklearn\\lib\\site-packages (from nasdaq-data-link) (1.23.4)\n",
      "Requirement already satisfied: inflection>=0.3.1 in c:\\users\\hp\\miniconda3\\envs\\sklearn\\lib\\site-packages (from nasdaq-data-link) (0.5.1)\n",
      "Requirement already satisfied: more-itertools in c:\\users\\hp\\miniconda3\\envs\\sklearn\\lib\\site-packages (from nasdaq-data-link) (9.0.0)\n",
      "Requirement already satisfied: requests>=2.7.0 in c:\\users\\hp\\miniconda3\\envs\\sklearn\\lib\\site-packages (from nasdaq-data-link) (2.28.1)\n",
      "Requirement already satisfied: pytz>=2020.1 in c:\\users\\hp\\miniconda3\\envs\\sklearn\\lib\\site-packages (from pandas>=0.14->nasdaq-data-link) (2022.7)\n",
      "Requirement already satisfied: certifi>=2017.4.17 in c:\\users\\hp\\miniconda3\\envs\\sklearn\\lib\\site-packages (from requests>=2.7.0->nasdaq-data-link) (2022.12.7)\n",
      "Requirement already satisfied: urllib3<1.27,>=1.21.1 in c:\\users\\hp\\miniconda3\\envs\\sklearn\\lib\\site-packages (from requests>=2.7.0->nasdaq-data-link) (1.26.13)\n",
      "Requirement already satisfied: idna<4,>=2.5 in c:\\users\\hp\\miniconda3\\envs\\sklearn\\lib\\site-packages (from requests>=2.7.0->nasdaq-data-link) (3.4)\n",
      "Requirement already satisfied: charset-normalizer<3,>=2 in c:\\users\\hp\\miniconda3\\envs\\sklearn\\lib\\site-packages (from requests>=2.7.0->nasdaq-data-link) (2.1.1)\n",
      "Note: you may need to restart the kernel to use updated packages.\n"
     ]
    }
   ],
   "source": [
    "%pip install nasdaq-data-link"
   ]
  },
  {
   "cell_type": "code",
   "execution_count": 29,
   "metadata": {},
   "outputs": [],
   "source": [
    "import nasdaqdatalink\n",
    "import pandas as pd\n",
    "nasdaqdatalink.read_key(filename='./apikey.txt')\n",
    "\n",
    "# data = nasdaqdatalink.get_table('WIKI/PRICES', qopts = { 'columns': ['ticker', 'date', 'close'] }, ticker = ['AAPL', 'MSFT'], date = { 'gte': '2000-01-01', 'lte': '2010-12-31' })\n",
    "# data = nasdaqdatalink.get_table('WIKI/PRICES', ticker = ['AAPL'], date = { 'gte': '2000-01-01', 'lte': '2010-12-31' })\n",
    "data = nasdaqdatalink.get(\"WIKI/AAPL\", start_date=\"2000-01-01\", end_date=\"2010-12-31\")"
   ]
  },
  {
   "cell_type": "code",
   "execution_count": 30,
   "metadata": {},
   "outputs": [
    {
     "data": {
      "text/html": [
       "<div>\n",
       "<style scoped>\n",
       "    .dataframe tbody tr th:only-of-type {\n",
       "        vertical-align: middle;\n",
       "    }\n",
       "\n",
       "    .dataframe tbody tr th {\n",
       "        vertical-align: top;\n",
       "    }\n",
       "\n",
       "    .dataframe thead th {\n",
       "        text-align: right;\n",
       "    }\n",
       "</style>\n",
       "<table border=\"1\" class=\"dataframe\">\n",
       "  <thead>\n",
       "    <tr style=\"text-align: right;\">\n",
       "      <th></th>\n",
       "      <th>Open</th>\n",
       "      <th>High</th>\n",
       "      <th>Low</th>\n",
       "      <th>Close</th>\n",
       "      <th>Volume</th>\n",
       "      <th>Ex-Dividend</th>\n",
       "      <th>Split Ratio</th>\n",
       "      <th>Adj. Open</th>\n",
       "      <th>Adj. High</th>\n",
       "      <th>Adj. Low</th>\n",
       "      <th>Adj. Close</th>\n",
       "      <th>Adj. Volume</th>\n",
       "    </tr>\n",
       "    <tr>\n",
       "      <th>Date</th>\n",
       "      <th></th>\n",
       "      <th></th>\n",
       "      <th></th>\n",
       "      <th></th>\n",
       "      <th></th>\n",
       "      <th></th>\n",
       "      <th></th>\n",
       "      <th></th>\n",
       "      <th></th>\n",
       "      <th></th>\n",
       "      <th></th>\n",
       "      <th></th>\n",
       "    </tr>\n",
       "  </thead>\n",
       "  <tbody>\n",
       "    <tr>\n",
       "      <th>2000-01-03</th>\n",
       "      <td>104.87</td>\n",
       "      <td>112.50</td>\n",
       "      <td>101.69</td>\n",
       "      <td>111.94</td>\n",
       "      <td>4783900.0</td>\n",
       "      <td>0.0</td>\n",
       "      <td>1.0</td>\n",
       "      <td>3.369314</td>\n",
       "      <td>3.614454</td>\n",
       "      <td>3.267146</td>\n",
       "      <td>3.596463</td>\n",
       "      <td>133949200.0</td>\n",
       "    </tr>\n",
       "    <tr>\n",
       "      <th>2000-01-04</th>\n",
       "      <td>108.25</td>\n",
       "      <td>110.62</td>\n",
       "      <td>101.19</td>\n",
       "      <td>102.50</td>\n",
       "      <td>4574800.0</td>\n",
       "      <td>0.0</td>\n",
       "      <td>1.0</td>\n",
       "      <td>3.477908</td>\n",
       "      <td>3.554053</td>\n",
       "      <td>3.251081</td>\n",
       "      <td>3.293170</td>\n",
       "      <td>128094400.0</td>\n",
       "    </tr>\n",
       "    <tr>\n",
       "      <th>2000-01-05</th>\n",
       "      <td>103.75</td>\n",
       "      <td>110.56</td>\n",
       "      <td>103.00</td>\n",
       "      <td>104.00</td>\n",
       "      <td>6949300.0</td>\n",
       "      <td>0.0</td>\n",
       "      <td>1.0</td>\n",
       "      <td>3.333330</td>\n",
       "      <td>3.552125</td>\n",
       "      <td>3.309234</td>\n",
       "      <td>3.341362</td>\n",
       "      <td>194580400.0</td>\n",
       "    </tr>\n",
       "    <tr>\n",
       "      <th>2000-01-06</th>\n",
       "      <td>106.12</td>\n",
       "      <td>107.00</td>\n",
       "      <td>95.00</td>\n",
       "      <td>95.00</td>\n",
       "      <td>6856900.0</td>\n",
       "      <td>0.0</td>\n",
       "      <td>1.0</td>\n",
       "      <td>3.409475</td>\n",
       "      <td>3.437748</td>\n",
       "      <td>3.052206</td>\n",
       "      <td>3.052206</td>\n",
       "      <td>191993200.0</td>\n",
       "    </tr>\n",
       "    <tr>\n",
       "      <th>2000-01-07</th>\n",
       "      <td>96.50</td>\n",
       "      <td>101.00</td>\n",
       "      <td>95.50</td>\n",
       "      <td>99.50</td>\n",
       "      <td>4113700.0</td>\n",
       "      <td>0.0</td>\n",
       "      <td>1.0</td>\n",
       "      <td>3.100399</td>\n",
       "      <td>3.244977</td>\n",
       "      <td>3.068270</td>\n",
       "      <td>3.196784</td>\n",
       "      <td>115183600.0</td>\n",
       "    </tr>\n",
       "  </tbody>\n",
       "</table>\n",
       "</div>"
      ],
      "text/plain": [
       "              Open    High     Low   Close     Volume  Ex-Dividend  \\\n",
       "Date                                                                 \n",
       "2000-01-03  104.87  112.50  101.69  111.94  4783900.0          0.0   \n",
       "2000-01-04  108.25  110.62  101.19  102.50  4574800.0          0.0   \n",
       "2000-01-05  103.75  110.56  103.00  104.00  6949300.0          0.0   \n",
       "2000-01-06  106.12  107.00   95.00   95.00  6856900.0          0.0   \n",
       "2000-01-07   96.50  101.00   95.50   99.50  4113700.0          0.0   \n",
       "\n",
       "            Split Ratio  Adj. Open  Adj. High  Adj. Low  Adj. Close  \\\n",
       "Date                                                                  \n",
       "2000-01-03          1.0   3.369314   3.614454  3.267146    3.596463   \n",
       "2000-01-04          1.0   3.477908   3.554053  3.251081    3.293170   \n",
       "2000-01-05          1.0   3.333330   3.552125  3.309234    3.341362   \n",
       "2000-01-06          1.0   3.409475   3.437748  3.052206    3.052206   \n",
       "2000-01-07          1.0   3.100399   3.244977  3.068270    3.196784   \n",
       "\n",
       "            Adj. Volume  \n",
       "Date                     \n",
       "2000-01-03  133949200.0  \n",
       "2000-01-04  128094400.0  \n",
       "2000-01-05  194580400.0  \n",
       "2000-01-06  191993200.0  \n",
       "2000-01-07  115183600.0  "
      ]
     },
     "execution_count": 30,
     "metadata": {},
     "output_type": "execute_result"
    }
   ],
   "source": [
    "data.head()"
   ]
  },
  {
   "cell_type": "code",
   "execution_count": 31,
   "metadata": {},
   "outputs": [],
   "source": [
    "## Plotting the close price of Microsoft\n",
    "# fig = data['Close'].plot(grid=True, figsize=(15,8))\n",
    "# fig.set_xlabel(\"\")\n",
    "# fig.set_ylabel(\"Price\", size=18)"
   ]
  },
  {
   "cell_type": "markdown",
   "metadata": {},
   "source": [
    "## **Converting prices to returns**"
   ]
  },
  {
   "attachments": {},
   "cell_type": "markdown",
   "metadata": {},
   "source": [
    "Asset prices are usually non-stationary, that is, their statistics, such as mean and variance\n",
    "(mathematical moments) change over time. This could also mean observing some trends or\n",
    "seasonality in the price series (see Chapter 3, Time Series Modeling). By transforming the\n",
    "prices into returns, we attempt to make the time series stationary, which is the desired\n",
    "property in statistical modeling.\n",
    "\n",
    "There are two types of returns:\n",
    "Simple returns: They aggregate over assets; the simple return of a portfolio is the\n",
    "weighted sum of the returns of the individual assets in the portfolio. Simple\n",
    "returns are defined as:\n",
    "\n",
    "* **Simple returns**: They aggregate over assets, the simple return of a portofolio is the weighted sum of the returns of the individual assets in the portofolio. Simple returns are defined as:\n",
    "$$\n",
    "R_t = (P_t - P_{t-1})/P_{t-1} = P_t/P_{t-1} - 1\n",
    "$$\n",
    "* **Log returns**: They aggregate over time; it is easier to understand with the help\n",
    "of an example—the log return for a given month is the sum of the log returns of\n",
    "the days within that month. Log returns are defined as:\n",
    "$$\n",
    "r_t = log(P_t/P_{t-1}) = log(P_t) - log(P_{t-1})\n",
    "$$\n",
    "$P_t$ is the price of an asset in time $t$. In the preceding case, we do not consider\n",
    "dividends, which obviously impact the returns and require a small modification\n",
    "of the formulas.\n",
    "\n",
    "> The best practice while working with stock prices is to use adjusted\n",
    "values, as they account for possible corporate actions, such as stock splits. Financial Data and Preprocessing \n",
    "The difference between simple and log returns for daily/intraday data will be very small,\n",
    "however, the general rule is that log returns are smaller in value than simple returns.\n",
    "In this recipe, we show how to calculate both types of returns using Apple's stock prices."
   ]
  },
  {
   "attachments": {},
   "cell_type": "markdown",
   "metadata": {},
   "source": [
    "### **How to do it**"
   ]
  },
  {
   "cell_type": "code",
   "execution_count": 32,
   "metadata": {},
   "outputs": [
    {
     "data": {
      "text/html": [
       "<div>\n",
       "<style scoped>\n",
       "    .dataframe tbody tr th:only-of-type {\n",
       "        vertical-align: middle;\n",
       "    }\n",
       "\n",
       "    .dataframe tbody tr th {\n",
       "        vertical-align: top;\n",
       "    }\n",
       "\n",
       "    .dataframe thead th {\n",
       "        text-align: right;\n",
       "    }\n",
       "</style>\n",
       "<table border=\"1\" class=\"dataframe\">\n",
       "  <thead>\n",
       "    <tr style=\"text-align: right;\">\n",
       "      <th></th>\n",
       "      <th>adj_close</th>\n",
       "      <th>simple_rtn</th>\n",
       "      <th>log_rtn</th>\n",
       "    </tr>\n",
       "    <tr>\n",
       "      <th>Date</th>\n",
       "      <th></th>\n",
       "      <th></th>\n",
       "      <th></th>\n",
       "    </tr>\n",
       "  </thead>\n",
       "  <tbody>\n",
       "    <tr>\n",
       "      <th>2000-01-03</th>\n",
       "      <td>0.851942</td>\n",
       "      <td>NaN</td>\n",
       "      <td>NaN</td>\n",
       "    </tr>\n",
       "    <tr>\n",
       "      <th>2000-01-04</th>\n",
       "      <td>0.780115</td>\n",
       "      <td>-0.084310</td>\n",
       "      <td>-0.088077</td>\n",
       "    </tr>\n",
       "    <tr>\n",
       "      <th>2000-01-05</th>\n",
       "      <td>0.791531</td>\n",
       "      <td>0.014633</td>\n",
       "      <td>0.014527</td>\n",
       "    </tr>\n",
       "    <tr>\n",
       "      <th>2000-01-06</th>\n",
       "      <td>0.723033</td>\n",
       "      <td>-0.086539</td>\n",
       "      <td>-0.090514</td>\n",
       "    </tr>\n",
       "    <tr>\n",
       "      <th>2000-01-07</th>\n",
       "      <td>0.757282</td>\n",
       "      <td>0.047369</td>\n",
       "      <td>0.046281</td>\n",
       "    </tr>\n",
       "  </tbody>\n",
       "</table>\n",
       "</div>"
      ],
      "text/plain": [
       "            adj_close  simple_rtn   log_rtn\n",
       "Date                                       \n",
       "2000-01-03   0.851942         NaN       NaN\n",
       "2000-01-04   0.780115   -0.084310 -0.088077\n",
       "2000-01-05   0.791531    0.014633  0.014527\n",
       "2000-01-06   0.723033   -0.086539 -0.090514\n",
       "2000-01-07   0.757282    0.047369  0.046281"
      ]
     },
     "execution_count": 32,
     "metadata": {},
     "output_type": "execute_result"
    }
   ],
   "source": [
    "# 1 Import the libs\n",
    "import pandas as pd\n",
    "import numpy as np\n",
    "import yfinance as yf\n",
    "# 2 Download the data and keep the adjusted close prices only\n",
    "df = yf.download('AAPL', start='2000-01-01', end='2010-12-31', progress=False)\n",
    "df = df.loc[:, ['Adj Close']]\n",
    "df.rename(columns={'Adj Close': 'adj_close'}, inplace=True)\n",
    "# 3 Calculate the simple and log returns using the adjusted close prices\n",
    "df['simple_rtn'] = df.adj_close.pct_change()\n",
    "df['log_rtn'] = np.log(df.adj_close/df.adj_close.shift(1))\n",
    "df.head()"
   ]
  },
  {
   "cell_type": "code",
   "execution_count": 33,
   "metadata": {},
   "outputs": [],
   "source": [
    "df2 = df"
   ]
  },
  {
   "attachments": {},
   "cell_type": "markdown",
   "metadata": {},
   "source": [
    "> The first row will always contain a not a number (NaN) value, as there is no previous price to use for calculating the returns."
   ]
  },
  {
   "cell_type": "markdown",
   "metadata": {},
   "source": [
    "### **How it works**"
   ]
  },
  {
   "attachments": {},
   "cell_type": "markdown",
   "metadata": {},
   "source": [
    "In Step 2, we downloaded price data from Yahoo Finance, and only kept the adjusted close\n",
    "price for the returns calculation.\n",
    "\n",
    "To calculate the simple returns, we used the `pct_change` method of `pandas`\n",
    "Series/DataFrame, which calculates the percentage change between the current and prior\n",
    "element (we can specify the number of lags, but for this specific case, the default value of 1\n",
    "suffices).\n",
    "\n",
    "To calculate the log returns, we followed the formula given in the introduction to this\n",
    "recipe. When dividing each element of the series by its lagged value, we used the shift\n",
    "method with a value of 1 to access the prior element. In the end, we took the natural\n",
    "logarithm of the divided values by using `np.log`."
   ]
  },
  {
   "attachments": {},
   "cell_type": "markdown",
   "metadata": {},
   "source": [
    "### **There's more**"
   ]
  },
  {
   "attachments": {},
   "cell_type": "markdown",
   "metadata": {},
   "source": [
    "We will also discuss how to account for inflation in the returns series. To do so, we continue\n",
    "with the example used in this recipe.\n",
    "\n",
    "We first download the monthly **Consumer Price Index (CPI)** values from (ex Quandl) and\n",
    "calculate the percentage change (simple return) in the index. We can then merge the\n",
    "inflation data with Apple's stock returns, and account for inflation by using the following\n",
    "formula:\n",
    "\n",
    "$$\n",
    "R^r_t = \\frac{1+ R_t}{1+\\pi_t} - 1\n",
    "$$\n",
    "\n",
    "Here, $R_t$ is a time $t$ simple return and $\\pi_t$ is the inflation rate."
   ]
  },
  {
   "cell_type": "code",
   "execution_count": 34,
   "metadata": {},
   "outputs": [],
   "source": [
    "# 1 Impport the libs\n",
    "import matplotlib.pyplot as plt\n",
    "import nasdaqdatalink\n",
    "\n",
    "\n",
    "nasdaqdatalink.read_key(filename='./apikey.txt')\n",
    "\n",
    "df_all_dates = pd.DataFrame(index=pd.date_range(start='1999-12-31', end='2010-12-31'))\n",
    "df = df_all_dates.join(df[['adj_close']], how='left').fillna(method='ffill').asfreq('M')"
   ]
  },
  {
   "attachments": {},
   "cell_type": "markdown",
   "metadata": {},
   "source": [
    "We used a left join, which is a type of join (used for merging DataFrames) that\n",
    "returns all rows from the left table and the matched rows from the right table\n",
    "while leaving the unmatched rows empty. In case the last day of the month was\n",
    "not a trading day, we used the last known price of that month\n",
    "`(fillna(method='ffill'))`. Lastly, we selected the end-of-month rows only by\n",
    "applying `asfreq('M')`."
   ]
  },
  {
   "cell_type": "code",
   "execution_count": 35,
   "metadata": {},
   "outputs": [
    {
     "data": {
      "text/html": [
       "<div>\n",
       "<style scoped>\n",
       "    .dataframe tbody tr th:only-of-type {\n",
       "        vertical-align: middle;\n",
       "    }\n",
       "\n",
       "    .dataframe tbody tr th {\n",
       "        vertical-align: top;\n",
       "    }\n",
       "\n",
       "    .dataframe thead th {\n",
       "        text-align: right;\n",
       "    }\n",
       "</style>\n",
       "<table border=\"1\" class=\"dataframe\">\n",
       "  <thead>\n",
       "    <tr style=\"text-align: right;\">\n",
       "      <th></th>\n",
       "      <th>adj_close</th>\n",
       "      <th>cpi</th>\n",
       "      <th>simple_rtn</th>\n",
       "      <th>inflation_rate</th>\n",
       "      <th>real_rtn</th>\n",
       "    </tr>\n",
       "  </thead>\n",
       "  <tbody>\n",
       "    <tr>\n",
       "      <th>1999-12-31</th>\n",
       "      <td>NaN</td>\n",
       "      <td>168.3</td>\n",
       "      <td>NaN</td>\n",
       "      <td>NaN</td>\n",
       "      <td>NaN</td>\n",
       "    </tr>\n",
       "    <tr>\n",
       "      <th>2000-01-31</th>\n",
       "      <td>0.789628</td>\n",
       "      <td>168.8</td>\n",
       "      <td>NaN</td>\n",
       "      <td>0.002971</td>\n",
       "      <td>NaN</td>\n",
       "    </tr>\n",
       "    <tr>\n",
       "      <th>2000-02-29</th>\n",
       "      <td>0.872397</td>\n",
       "      <td>169.8</td>\n",
       "      <td>0.104820</td>\n",
       "      <td>0.005924</td>\n",
       "      <td>0.098314</td>\n",
       "    </tr>\n",
       "    <tr>\n",
       "      <th>2000-03-31</th>\n",
       "      <td>1.033652</td>\n",
       "      <td>171.2</td>\n",
       "      <td>0.184842</td>\n",
       "      <td>0.008245</td>\n",
       "      <td>0.175153</td>\n",
       "    </tr>\n",
       "    <tr>\n",
       "      <th>2000-04-30</th>\n",
       "      <td>0.944224</td>\n",
       "      <td>171.3</td>\n",
       "      <td>-0.086517</td>\n",
       "      <td>0.000584</td>\n",
       "      <td>-0.087050</td>\n",
       "    </tr>\n",
       "  </tbody>\n",
       "</table>\n",
       "</div>"
      ],
      "text/plain": [
       "            adj_close    cpi  simple_rtn  inflation_rate  real_rtn\n",
       "1999-12-31        NaN  168.3         NaN             NaN       NaN\n",
       "2000-01-31   0.789628  168.8         NaN        0.002971       NaN\n",
       "2000-02-29   0.872397  169.8    0.104820        0.005924  0.098314\n",
       "2000-03-31   1.033652  171.2    0.184842        0.008245  0.175153\n",
       "2000-04-30   0.944224  171.3   -0.086517        0.000584 -0.087050"
      ]
     },
     "execution_count": 35,
     "metadata": {},
     "output_type": "execute_result"
    }
   ],
   "source": [
    "# 3 Download the inflation data from Quandl:\n",
    "df_cpi = nasdaqdatalink.get(dataset='RATEINF/CPI_USA', start_date='1999-12-01', end_date='2010-12-31')\n",
    "df_cpi.rename(columns={'Value':'cpi'}, inplace=True)\n",
    "\n",
    "# 4 Merge the inflation data to the prices:\n",
    "df_merged = df.join(df_cpi, how='left')\n",
    "\n",
    "# 5 Calculate the simple returns and inflation rate:\n",
    "df_merged['simple_rtn'] = df_merged.adj_close.pct_change()\n",
    "df_merged['inflation_rate'] = df_merged.cpi.pct_change()\n",
    "\n",
    "# 6 Adjust the returns for inflation:\n",
    "df_merged['real_rtn'] = (df_merged.simple_rtn + 1) / (df_merged.inflation_rate + 1) - 1\n",
    "df_merged.head()"
   ]
  },
  {
   "attachments": {},
   "cell_type": "markdown",
   "metadata": {},
   "source": [
    "## **Changing frequency**"
   ]
  },
  {
   "attachments": {},
   "cell_type": "markdown",
   "metadata": {},
   "source": [
    "The general rule of thumb for changing frequency can be broken down into the following:\n",
    "* Multiply/divide the log returns by the number of times periods\n",
    "* Multiply/divide the volatility by the square root of the number of time periods.\n",
    "\n",
    "In this recipe, we present an example of how to calculate the monthly realized volatilities\n",
    "for Apple using daily returns and then annualize the values.\n",
    "\n",
    "The formula for realized volatility is as follows:\n",
    "\n",
    "$$\n",
    "RV = \\sqrt{\\sum^{T}_{t=1}r^2_t}\n",
    "$$"
   ]
  },
  {
   "attachments": {},
   "cell_type": "markdown",
   "metadata": {},
   "source": [
    "Realized volatility is frequently used for daily volatility using the intraday returns.\n",
    "The steps we need to take are as follows:\n",
    "* Download the data and calculate the log returns.\n",
    "* Calculate the realized volatility over the months.\n",
    "* Annualize the values by multiplying by $\\sqrt{12}$, as we are converting from monthly\n",
    "values."
   ]
  },
  {
   "attachments": {},
   "cell_type": "markdown",
   "metadata": {},
   "source": [
    "### **Getting ready**"
   ]
  },
  {
   "attachments": {},
   "cell_type": "markdown",
   "metadata": {},
   "source": [
    "We assume you have followed the instructions from earlier recipes and have a DataFrame\n",
    "called `df` with a single `log_rtn` column and timestamps as the index."
   ]
  },
  {
   "attachments": {},
   "cell_type": "markdown",
   "metadata": {},
   "source": [
    "### **How to do it**"
   ]
  },
  {
   "cell_type": "code",
   "execution_count": 36,
   "metadata": {},
   "outputs": [
    {
     "name": "stdout",
     "output_type": "stream",
     "text": [
      "            adj_close  simple_rtn        rv\n",
      "Date                                       \n",
      "2000-01-31   3.526048    0.235272  0.236246\n",
      "2000-02-29   3.803977    0.149059  0.147841\n",
      "2000-03-31   4.700135    0.249919  0.243592\n",
      "2000-04-30   4.089429    0.213318  0.212513\n",
      "2000-05-31   3.621950    0.181835  0.184990\n"
     ]
    },
    {
     "data": {
      "text/plain": [
       "[<matplotlib.lines.Line2D at 0x26dd2483190>,\n",
       " <matplotlib.lines.Line2D at 0x26dd24a47c0>,\n",
       " <matplotlib.lines.Line2D at 0x26dd24a4790>]"
      ]
     },
     "execution_count": 36,
     "metadata": {},
     "output_type": "execute_result"
    },
    {
     "data": {
      "image/png": "[encoded data removed]",
      "text/plain": [
       "<Figure size 640x480 with 2 Axes>"
      ]
     },
     "metadata": {},
     "output_type": "display_data"
    }
   ],
   "source": [
    "# 1 import the libs\n",
    "import pandas as pd\n",
    "\n",
    "# 2 Define the function for calculating the realized volatility\n",
    "def realized_volatility(x):\n",
    "    return np.sqrt(np.sum(x**2))\n",
    "\n",
    "# 3 Calculate the monthly realized volatility\n",
    "df_rv = df2.groupby(pd.Grouper(freq='M')).apply(realized_volatility)\n",
    "df_rv.rename(columns={'log_rtn': 'rv'}, inplace=True)\n",
    "print(df_rv.head())\n",
    "# 4 Analyze the values\n",
    "df_rv.rv = df_rv.rv * np.sqrt(12)\n",
    "# 5 Plot the results\n",
    "fig, ax = plt.subplots(2, 1, sharex=True)\n",
    "ax[0].plot(df2)\n",
    "ax[1].plot(df_rv)"
   ]
  },
  {
   "cell_type": "code",
   "execution_count": null,
   "metadata": {},
   "outputs": [],
   "source": []
  }
 ],
 "metadata": {
  "kernelspec": {
   "display_name": "sklearn",
   "language": "python",
   "name": "python3"
  },
  "language_info": {
   "codemirror_mode": {
    "name": "ipython",
    "version": 3
   },
   "file_extension": ".py",
   "mimetype": "text/x-python",
   "name": "python",
   "nbconvert_exporter": "python",
   "pygments_lexer": "ipython3",
   "version": "3.10.8"
  },
  "orig_nbformat": 4,
  "vscode": {
   "interpreter": {
    "hash": "abba74b63ac07f00554c7676ecb12976ca4959712221a1ddcaf32d27fe78653e"
   }
  }
 },
 "nbformat": 4,
 "nbformat_minor": 2
}
